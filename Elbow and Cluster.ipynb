{
 "cells": [
  {
   "cell_type": "markdown",
   "id": "f5dcbbe6",
   "metadata": {},
   "source": [
    "## Machine Learning part 2"
   ]
  },
  {
   "cell_type": "markdown",
   "id": "d2ec0a8d",
   "metadata": {},
   "source": [
    "#### 1. Importing libraries and data renaming columns\n",
    "#### 2. The elbow technique\n",
    "#### 3. k-means clustering"
   ]
  },
  {
   "cell_type": "markdown",
   "id": "422abeba",
   "metadata": {},
   "source": [
    "### Importing libraries"
   ]
  },
  {
   "cell_type": "code",
   "execution_count": 67,
   "id": "53d53cc4",
   "metadata": {},
   "outputs": [],
   "source": [
    "import pandas as pd\n",
    "import numpy as np\n",
    "import seaborn as sns\n",
    "import matplotlib\n",
    "import matplotlib.pyplot as plt\n",
    "import os\n",
    "import sklearn\n",
    "from sklearn.cluster import KMeans\n",
    "import pylab as pl"
   ]
  },
  {
   "cell_type": "code",
   "execution_count": 68,
   "id": "52d61bbb",
   "metadata": {},
   "outputs": [],
   "source": [
    "path = r'C:\\Users\\13526\\Documents\\Airbnb Data Project'"
   ]
  },
  {
   "cell_type": "code",
   "execution_count": 69,
   "id": "83c4a8a3",
   "metadata": {},
   "outputs": [
    {
     "name": "stderr",
     "output_type": "stream",
     "text": [
      "C:\\Users\\13526\\AppData\\Local\\Temp\\ipykernel_29420\\2030327754.py:1: DtypeWarning: Columns (4) have mixed types. Specify dtype option on import or set low_memory=False.\n",
      "  df = pd.read_csv(os.path.join(path, '02 Data', 'airbnb_clean.csv'))\n"
     ]
    }
   ],
   "source": [
    "df = pd.read_csv(os.path.join(path, '02 Data', 'airbnb_clean.csv'))"
   ]
  },
  {
   "cell_type": "code",
   "execution_count": 70,
   "id": "69e959a6",
   "metadata": {},
   "outputs": [
    {
     "data": {
      "text/plain": [
       "(225967, 17)"
      ]
     },
     "execution_count": 70,
     "metadata": {},
     "output_type": "execute_result"
    }
   ],
   "source": [
    "df.shape"
   ]
  },
  {
   "cell_type": "code",
   "execution_count": 71,
   "id": "40869fa1",
   "metadata": {},
   "outputs": [
    {
     "data": {
      "text/html": [
       "<div>\n",
       "<style scoped>\n",
       "    .dataframe tbody tr th:only-of-type {\n",
       "        vertical-align: middle;\n",
       "    }\n",
       "\n",
       "    .dataframe tbody tr th {\n",
       "        vertical-align: top;\n",
       "    }\n",
       "\n",
       "    .dataframe thead th {\n",
       "        text-align: right;\n",
       "    }\n",
       "</style>\n",
       "<table border=\"1\" class=\"dataframe\">\n",
       "  <thead>\n",
       "    <tr style=\"text-align: right;\">\n",
       "      <th></th>\n",
       "      <th>Unnamed: 0</th>\n",
       "      <th>id</th>\n",
       "      <th>name</th>\n",
       "      <th>host_id</th>\n",
       "      <th>neighbourhood_group</th>\n",
       "      <th>neighbourhood</th>\n",
       "      <th>latitude</th>\n",
       "      <th>longitude</th>\n",
       "      <th>room_type</th>\n",
       "      <th>price</th>\n",
       "      <th>minimum_nights</th>\n",
       "      <th>number_of_reviews</th>\n",
       "      <th>last_review</th>\n",
       "      <th>reviews_per_month</th>\n",
       "      <th>calculated_host_listings_count</th>\n",
       "      <th>availability_365</th>\n",
       "      <th>city</th>\n",
       "    </tr>\n",
       "  </thead>\n",
       "  <tbody>\n",
       "    <tr>\n",
       "      <th>0</th>\n",
       "      <td>0</td>\n",
       "      <td>38585</td>\n",
       "      <td>Charming Victorian home - twin beds + breakfast</td>\n",
       "      <td>165529</td>\n",
       "      <td>NaN</td>\n",
       "      <td>28804</td>\n",
       "      <td>35.65146</td>\n",
       "      <td>-82.62792</td>\n",
       "      <td>Private room</td>\n",
       "      <td>60</td>\n",
       "      <td>1</td>\n",
       "      <td>138</td>\n",
       "      <td>2020-02-16</td>\n",
       "      <td>1.14</td>\n",
       "      <td>1</td>\n",
       "      <td>0</td>\n",
       "      <td>Asheville</td>\n",
       "    </tr>\n",
       "    <tr>\n",
       "      <th>1</th>\n",
       "      <td>1</td>\n",
       "      <td>80905</td>\n",
       "      <td>French Chic Loft</td>\n",
       "      <td>427027</td>\n",
       "      <td>NaN</td>\n",
       "      <td>28801</td>\n",
       "      <td>35.59779</td>\n",
       "      <td>-82.55540</td>\n",
       "      <td>Entire home/apt</td>\n",
       "      <td>470</td>\n",
       "      <td>1</td>\n",
       "      <td>114</td>\n",
       "      <td>2020-07-09</td>\n",
       "      <td>1.03</td>\n",
       "      <td>11</td>\n",
       "      <td>288</td>\n",
       "      <td>Asheville</td>\n",
       "    </tr>\n",
       "    <tr>\n",
       "      <th>2</th>\n",
       "      <td>2</td>\n",
       "      <td>108061</td>\n",
       "      <td>Walk to stores/parks/downtown. Fenced yard/Pet...</td>\n",
       "      <td>320564</td>\n",
       "      <td>NaN</td>\n",
       "      <td>28801</td>\n",
       "      <td>35.60670</td>\n",
       "      <td>-82.55563</td>\n",
       "      <td>Entire home/apt</td>\n",
       "      <td>75</td>\n",
       "      <td>30</td>\n",
       "      <td>89</td>\n",
       "      <td>2019-11-30</td>\n",
       "      <td>0.81</td>\n",
       "      <td>2</td>\n",
       "      <td>298</td>\n",
       "      <td>Asheville</td>\n",
       "    </tr>\n",
       "    <tr>\n",
       "      <th>3</th>\n",
       "      <td>3</td>\n",
       "      <td>155305</td>\n",
       "      <td>Cottage! BonPaul + Sharky's Hostel</td>\n",
       "      <td>746673</td>\n",
       "      <td>NaN</td>\n",
       "      <td>28806</td>\n",
       "      <td>35.57864</td>\n",
       "      <td>-82.59578</td>\n",
       "      <td>Entire home/apt</td>\n",
       "      <td>90</td>\n",
       "      <td>1</td>\n",
       "      <td>267</td>\n",
       "      <td>2020-09-22</td>\n",
       "      <td>2.39</td>\n",
       "      <td>5</td>\n",
       "      <td>0</td>\n",
       "      <td>Asheville</td>\n",
       "    </tr>\n",
       "    <tr>\n",
       "      <th>4</th>\n",
       "      <td>4</td>\n",
       "      <td>160594</td>\n",
       "      <td>Historic Grove Park</td>\n",
       "      <td>769252</td>\n",
       "      <td>NaN</td>\n",
       "      <td>28801</td>\n",
       "      <td>35.61442</td>\n",
       "      <td>-82.54127</td>\n",
       "      <td>Private room</td>\n",
       "      <td>125</td>\n",
       "      <td>30</td>\n",
       "      <td>58</td>\n",
       "      <td>2015-10-19</td>\n",
       "      <td>0.52</td>\n",
       "      <td>1</td>\n",
       "      <td>0</td>\n",
       "      <td>Asheville</td>\n",
       "    </tr>\n",
       "  </tbody>\n",
       "</table>\n",
       "</div>"
      ],
      "text/plain": [
       "   Unnamed: 0      id                                               name  \\\n",
       "0           0   38585    Charming Victorian home - twin beds + breakfast   \n",
       "1           1   80905                                   French Chic Loft   \n",
       "2           2  108061  Walk to stores/parks/downtown. Fenced yard/Pet...   \n",
       "3           3  155305                 Cottage! BonPaul + Sharky's Hostel   \n",
       "4           4  160594                                Historic Grove Park   \n",
       "\n",
       "   host_id neighbourhood_group neighbourhood  latitude  longitude  \\\n",
       "0   165529                 NaN         28804  35.65146  -82.62792   \n",
       "1   427027                 NaN         28801  35.59779  -82.55540   \n",
       "2   320564                 NaN         28801  35.60670  -82.55563   \n",
       "3   746673                 NaN         28806  35.57864  -82.59578   \n",
       "4   769252                 NaN         28801  35.61442  -82.54127   \n",
       "\n",
       "         room_type  price  minimum_nights  number_of_reviews last_review  \\\n",
       "0     Private room     60               1                138  2020-02-16   \n",
       "1  Entire home/apt    470               1                114  2020-07-09   \n",
       "2  Entire home/apt     75              30                 89  2019-11-30   \n",
       "3  Entire home/apt     90               1                267  2020-09-22   \n",
       "4     Private room    125              30                 58  2015-10-19   \n",
       "\n",
       "   reviews_per_month  calculated_host_listings_count  availability_365  \\\n",
       "0               1.14                               1                 0   \n",
       "1               1.03                              11               288   \n",
       "2               0.81                               2               298   \n",
       "3               2.39                               5                 0   \n",
       "4               0.52                               1                 0   \n",
       "\n",
       "        city  \n",
       "0  Asheville  \n",
       "1  Asheville  \n",
       "2  Asheville  \n",
       "3  Asheville  \n",
       "4  Asheville  "
      ]
     },
     "execution_count": 71,
     "metadata": {},
     "output_type": "execute_result"
    }
   ],
   "source": [
    "df.head()"
   ]
  },
  {
   "cell_type": "code",
   "execution_count": 88,
   "id": "7183e3cf",
   "metadata": {},
   "outputs": [],
   "source": [
    "df2 = df.drop(columns = ['name', 'reviews_per_month', 'last_review', 'neighbourhood', 'neighbourhood_group', 'room_type', 'city'])"
   ]
  },
  {
   "cell_type": "code",
   "execution_count": 89,
   "id": "9979dc00",
   "metadata": {},
   "outputs": [
    {
     "data": {
      "text/plain": [
       "Unnamed: 0                        0\n",
       "id                                0\n",
       "host_id                           0\n",
       "latitude                          0\n",
       "longitude                         0\n",
       "price                             0\n",
       "minimum_nights                    0\n",
       "number_of_reviews                 0\n",
       "calculated_host_listings_count    0\n",
       "availability_365                  0\n",
       "dtype: int64"
      ]
     },
     "execution_count": 89,
     "metadata": {},
     "output_type": "execute_result"
    }
   ],
   "source": [
    "df2.isnull().sum()"
   ]
  },
  {
   "cell_type": "markdown",
   "id": "76c9af43",
   "metadata": {},
   "source": [
    "### 2. The elbow technique"
   ]
  },
  {
   "cell_type": "code",
   "execution_count": 90,
   "id": "211063b6",
   "metadata": {},
   "outputs": [],
   "source": [
    "num_cl = range(1, 20)\n",
    "kmeans = [KMeans(n_clusters=i) for i in num_cl]"
   ]
  },
  {
   "cell_type": "code",
   "execution_count": 91,
   "id": "df82ced0",
   "metadata": {},
   "outputs": [
    {
     "data": {
      "text/html": [
       "<div>\n",
       "<style scoped>\n",
       "    .dataframe tbody tr th:only-of-type {\n",
       "        vertical-align: middle;\n",
       "    }\n",
       "\n",
       "    .dataframe tbody tr th {\n",
       "        vertical-align: top;\n",
       "    }\n",
       "\n",
       "    .dataframe thead th {\n",
       "        text-align: right;\n",
       "    }\n",
       "</style>\n",
       "<table border=\"1\" class=\"dataframe\">\n",
       "  <thead>\n",
       "    <tr style=\"text-align: right;\">\n",
       "      <th></th>\n",
       "      <th>Unnamed: 0</th>\n",
       "      <th>id</th>\n",
       "      <th>host_id</th>\n",
       "      <th>latitude</th>\n",
       "      <th>longitude</th>\n",
       "      <th>price</th>\n",
       "      <th>minimum_nights</th>\n",
       "      <th>number_of_reviews</th>\n",
       "      <th>calculated_host_listings_count</th>\n",
       "      <th>availability_365</th>\n",
       "    </tr>\n",
       "  </thead>\n",
       "  <tbody>\n",
       "    <tr>\n",
       "      <th>count</th>\n",
       "      <td>225967.000000</td>\n",
       "      <td>2.259670e+05</td>\n",
       "      <td>2.259670e+05</td>\n",
       "      <td>225967.000000</td>\n",
       "      <td>225967.000000</td>\n",
       "      <td>225967.000000</td>\n",
       "      <td>225967.000000</td>\n",
       "      <td>225967.000000</td>\n",
       "      <td>225967.000000</td>\n",
       "      <td>225967.000000</td>\n",
       "    </tr>\n",
       "    <tr>\n",
       "      <th>mean</th>\n",
       "      <td>113013.804405</td>\n",
       "      <td>2.547282e+07</td>\n",
       "      <td>9.352379e+07</td>\n",
       "      <td>35.662211</td>\n",
       "      <td>-103.221079</td>\n",
       "      <td>219.562241</td>\n",
       "      <td>9.916280</td>\n",
       "      <td>34.510420</td>\n",
       "      <td>16.702722</td>\n",
       "      <td>159.305961</td>\n",
       "    </tr>\n",
       "    <tr>\n",
       "      <th>std</th>\n",
       "      <td>65250.277021</td>\n",
       "      <td>1.317788e+07</td>\n",
       "      <td>9.827302e+07</td>\n",
       "      <td>6.850380</td>\n",
       "      <td>26.223535</td>\n",
       "      <td>569.086037</td>\n",
       "      <td>21.208074</td>\n",
       "      <td>63.608121</td>\n",
       "      <td>51.075472</td>\n",
       "      <td>140.175638</td>\n",
       "    </tr>\n",
       "    <tr>\n",
       "      <th>min</th>\n",
       "      <td>0.000000</td>\n",
       "      <td>1.090000e+02</td>\n",
       "      <td>2.300000e+01</td>\n",
       "      <td>18.920990</td>\n",
       "      <td>-159.714900</td>\n",
       "      <td>0.000000</td>\n",
       "      <td>1.000000</td>\n",
       "      <td>0.000000</td>\n",
       "      <td>1.000000</td>\n",
       "      <td>0.000000</td>\n",
       "    </tr>\n",
       "    <tr>\n",
       "      <th>25%</th>\n",
       "      <td>56506.500000</td>\n",
       "      <td>1.515974e+07</td>\n",
       "      <td>1.399310e+07</td>\n",
       "      <td>32.761740</td>\n",
       "      <td>-118.598295</td>\n",
       "      <td>75.000000</td>\n",
       "      <td>1.000000</td>\n",
       "      <td>1.000000</td>\n",
       "      <td>1.000000</td>\n",
       "      <td>0.000000</td>\n",
       "    </tr>\n",
       "    <tr>\n",
       "      <th>50%</th>\n",
       "      <td>113013.000000</td>\n",
       "      <td>2.591052e+07</td>\n",
       "      <td>5.138445e+07</td>\n",
       "      <td>37.259970</td>\n",
       "      <td>-97.816610</td>\n",
       "      <td>121.000000</td>\n",
       "      <td>2.000000</td>\n",
       "      <td>8.000000</td>\n",
       "      <td>2.000000</td>\n",
       "      <td>140.000000</td>\n",
       "    </tr>\n",
       "    <tr>\n",
       "      <th>75%</th>\n",
       "      <td>169519.500000</td>\n",
       "      <td>3.772717e+07</td>\n",
       "      <td>1.497110e+08</td>\n",
       "      <td>40.724035</td>\n",
       "      <td>-76.920265</td>\n",
       "      <td>201.000000</td>\n",
       "      <td>7.000000</td>\n",
       "      <td>39.000000</td>\n",
       "      <td>6.000000</td>\n",
       "      <td>311.000000</td>\n",
       "    </tr>\n",
       "    <tr>\n",
       "      <th>max</th>\n",
       "      <td>226029.000000</td>\n",
       "      <td>4.556085e+07</td>\n",
       "      <td>3.679176e+08</td>\n",
       "      <td>47.734620</td>\n",
       "      <td>-70.995950</td>\n",
       "      <td>24999.000000</td>\n",
       "      <td>366.000000</td>\n",
       "      <td>966.000000</td>\n",
       "      <td>593.000000</td>\n",
       "      <td>365.000000</td>\n",
       "    </tr>\n",
       "  </tbody>\n",
       "</table>\n",
       "</div>"
      ],
      "text/plain": [
       "          Unnamed: 0            id       host_id       latitude  \\\n",
       "count  225967.000000  2.259670e+05  2.259670e+05  225967.000000   \n",
       "mean   113013.804405  2.547282e+07  9.352379e+07      35.662211   \n",
       "std     65250.277021  1.317788e+07  9.827302e+07       6.850380   \n",
       "min         0.000000  1.090000e+02  2.300000e+01      18.920990   \n",
       "25%     56506.500000  1.515974e+07  1.399310e+07      32.761740   \n",
       "50%    113013.000000  2.591052e+07  5.138445e+07      37.259970   \n",
       "75%    169519.500000  3.772717e+07  1.497110e+08      40.724035   \n",
       "max    226029.000000  4.556085e+07  3.679176e+08      47.734620   \n",
       "\n",
       "           longitude          price  minimum_nights  number_of_reviews  \\\n",
       "count  225967.000000  225967.000000   225967.000000      225967.000000   \n",
       "mean     -103.221079     219.562241        9.916280          34.510420   \n",
       "std        26.223535     569.086037       21.208074          63.608121   \n",
       "min      -159.714900       0.000000        1.000000           0.000000   \n",
       "25%      -118.598295      75.000000        1.000000           1.000000   \n",
       "50%       -97.816610     121.000000        2.000000           8.000000   \n",
       "75%       -76.920265     201.000000        7.000000          39.000000   \n",
       "max       -70.995950   24999.000000      366.000000         966.000000   \n",
       "\n",
       "       calculated_host_listings_count  availability_365  \n",
       "count                   225967.000000     225967.000000  \n",
       "mean                        16.702722        159.305961  \n",
       "std                         51.075472        140.175638  \n",
       "min                          1.000000          0.000000  \n",
       "25%                          1.000000          0.000000  \n",
       "50%                          2.000000        140.000000  \n",
       "75%                          6.000000        311.000000  \n",
       "max                        593.000000        365.000000  "
      ]
     },
     "execution_count": 91,
     "metadata": {},
     "output_type": "execute_result"
    }
   ],
   "source": [
    "df2.describe()"
   ]
  },
  {
   "cell_type": "code",
   "execution_count": 92,
   "id": "57e5f0b5",
   "metadata": {},
   "outputs": [
    {
     "name": "stdout",
     "output_type": "stream",
     "text": [
      "<class 'pandas.core.frame.DataFrame'>\n",
      "RangeIndex: 225967 entries, 0 to 225966\n",
      "Data columns (total 10 columns):\n",
      " #   Column                          Non-Null Count   Dtype  \n",
      "---  ------                          --------------   -----  \n",
      " 0   Unnamed: 0                      225967 non-null  int64  \n",
      " 1   id                              225967 non-null  int64  \n",
      " 2   host_id                         225967 non-null  int64  \n",
      " 3   latitude                        225967 non-null  float64\n",
      " 4   longitude                       225967 non-null  float64\n",
      " 5   price                           225967 non-null  int64  \n",
      " 6   minimum_nights                  225967 non-null  int64  \n",
      " 7   number_of_reviews               225967 non-null  int64  \n",
      " 8   calculated_host_listings_count  225967 non-null  int64  \n",
      " 9   availability_365                225967 non-null  int64  \n",
      "dtypes: float64(2), int64(8)\n",
      "memory usage: 17.2 MB\n"
     ]
    }
   ],
   "source": [
    "df2.info()"
   ]
  },
  {
   "cell_type": "code",
   "execution_count": 93,
   "id": "e3312cff",
   "metadata": {
    "scrolled": true
   },
   "outputs": [
    {
     "data": {
      "text/plain": [
       "[-2.221527707225112e+21,\n",
       " -5.408654179407581e+20,\n",
       " -2.3910385171605314e+20,\n",
       " -1.5358836445183158e+20,\n",
       " -1.0849934186134997e+20,\n",
       " -7.983585331884735e+19,\n",
       " -6.640490696562501e+19,\n",
       " -5.358750366648109e+19,\n",
       " -4.58578104948608e+19,\n",
       " -3.987246120202906e+19,\n",
       " -3.5443926307200393e+19,\n",
       " -3.1071038508108526e+19,\n",
       " -2.808169038014039e+19,\n",
       " -2.5500809817234776e+19,\n",
       " -2.351155995041333e+19,\n",
       " -2.1692633582594716e+19,\n",
       " -2.0458890206093664e+19,\n",
       " -1.8911362297457e+19,\n",
       " -1.7731390729853741e+19]"
      ]
     },
     "execution_count": 93,
     "metadata": {},
     "output_type": "execute_result"
    }
   ],
   "source": [
    "score = [kmeans[i].fit(df2).score(df2) for i in range(len(kmeans))]\n",
    "score"
   ]
  },
  {
   "cell_type": "code",
   "execution_count": 94,
   "id": "8bad8ccc",
   "metadata": {
    "scrolled": true
   },
   "outputs": [
    {
     "data": {
      "image/png": "[encoded data removed]",
      "text/plain": [
       "<Figure size 432x288 with 1 Axes>"
      ]
     },
     "metadata": {
      "needs_background": "light"
     },
     "output_type": "display_data"
    }
   ],
   "source": [
    "pl.plot(num_cl,score)\n",
    "pl.xlabel('Number of Clusters')\n",
    "pl.ylabel('Score')\n",
    "pl.title('Elbow Curve')\n",
    "pl.show()"
   ]
  },
  {
   "cell_type": "markdown",
   "id": "1efee508",
   "metadata": {},
   "source": [
    "### 3. k-means clustering "
   ]
  },
  {
   "cell_type": "code",
   "execution_count": 101,
   "id": "d7af7219",
   "metadata": {},
   "outputs": [],
   "source": [
    "kmeans = KMeans(n_clusters = 3)"
   ]
  },
  {
   "cell_type": "code",
   "execution_count": 102,
   "id": "b24b3dce",
   "metadata": {
    "scrolled": true
   },
   "outputs": [
    {
     "data": {
      "text/plain": [
       "KMeans(n_clusters=3)"
      ]
     },
     "execution_count": 102,
     "metadata": {},
     "output_type": "execute_result"
    }
   ],
   "source": [
    "kmeans.fit(df2)"
   ]
  },
  {
   "cell_type": "code",
   "execution_count": 105,
   "id": "e2391ae9",
   "metadata": {},
   "outputs": [],
   "source": [
    "df2['clusters'] = kmeans.fit_predict(df2)"
   ]
  },
  {
   "cell_type": "code",
   "execution_count": 106,
   "id": "4886cdb6",
   "metadata": {},
   "outputs": [
    {
     "data": {
      "text/plain": [
       "0    133626\n",
       "1     55838\n",
       "2     36503\n",
       "Name: clusters, dtype: int64"
      ]
     },
     "execution_count": 106,
     "metadata": {},
     "output_type": "execute_result"
    }
   ],
   "source": [
    "df2['clusters'].value_counts()"
   ]
  },
  {
   "cell_type": "code",
   "execution_count": 107,
   "id": "1da8540f",
   "metadata": {},
   "outputs": [
    {
     "data": {
      "image/png": "[encoded data removed]",
      "text/plain": [
       "<Figure size 864x576 with 1 Axes>"
      ]
     },
     "metadata": {
      "needs_background": "light"
     },
     "output_type": "display_data"
    }
   ],
   "source": [
    "plt.figure(figsize=(12,8))\n",
    "ax = sns.scatterplot(x=df2['price'], y=df2['minimum_nights'], hue=kmeans.labels_, s=100)\n",
    "ax.grid(False)\n",
    "plt.xlabel('Price')\n",
    "plt.ylabel('Minimum Nights')\n",
    "plt.show()"
   ]
  },
  {
   "cell_type": "code",
   "execution_count": 113,
   "id": "9cfdca30",
   "metadata": {},
   "outputs": [],
   "source": [
    "df2.loc[df2['clusters'] == 2, 'clusters'] = 'dark purple'\n",
    "df2.loc[df2['clusters'] == 1, 'clusters'] = 'purple'\n",
    "df2.loc[df2['clusters'] == 0, 'clusters'] = 'pink'"
   ]
  },
  {
   "cell_type": "code",
   "execution_count": 114,
   "id": "182e6899",
   "metadata": {},
   "outputs": [
    {
     "data": {
      "text/html": [
       "<div>\n",
       "<style scoped>\n",
       "    .dataframe tbody tr th:only-of-type {\n",
       "        vertical-align: middle;\n",
       "    }\n",
       "\n",
       "    .dataframe tbody tr th {\n",
       "        vertical-align: top;\n",
       "    }\n",
       "\n",
       "    .dataframe thead tr th {\n",
       "        text-align: left;\n",
       "    }\n",
       "\n",
       "    .dataframe thead tr:last-of-type th {\n",
       "        text-align: right;\n",
       "    }\n",
       "</style>\n",
       "<table border=\"1\" class=\"dataframe\">\n",
       "  <thead>\n",
       "    <tr>\n",
       "      <th></th>\n",
       "      <th colspan=\"2\" halign=\"left\">price</th>\n",
       "      <th colspan=\"2\" halign=\"left\">minimum_nights</th>\n",
       "      <th colspan=\"2\" halign=\"left\">number_of_reviews</th>\n",
       "    </tr>\n",
       "    <tr>\n",
       "      <th></th>\n",
       "      <th>mean</th>\n",
       "      <th>median</th>\n",
       "      <th>mean</th>\n",
       "      <th>median</th>\n",
       "      <th>mean</th>\n",
       "      <th>median</th>\n",
       "    </tr>\n",
       "    <tr>\n",
       "      <th>clusters</th>\n",
       "      <th></th>\n",
       "      <th></th>\n",
       "      <th></th>\n",
       "      <th></th>\n",
       "      <th></th>\n",
       "      <th></th>\n",
       "    </tr>\n",
       "  </thead>\n",
       "  <tbody>\n",
       "    <tr>\n",
       "      <th>dark purple</th>\n",
       "      <td>220.012191</td>\n",
       "      <td>116.0</td>\n",
       "      <td>10.035203</td>\n",
       "      <td>2.0</td>\n",
       "      <td>12.726981</td>\n",
       "      <td>2.0</td>\n",
       "    </tr>\n",
       "    <tr>\n",
       "      <th>pink</th>\n",
       "      <td>202.282565</td>\n",
       "      <td>120.0</td>\n",
       "      <td>10.466159</td>\n",
       "      <td>3.0</td>\n",
       "      <td>42.801573</td>\n",
       "      <td>11.0</td>\n",
       "    </tr>\n",
       "    <tr>\n",
       "      <th>purple</th>\n",
       "      <td>260.620115</td>\n",
       "      <td>128.0</td>\n",
       "      <td>8.522619</td>\n",
       "      <td>2.0</td>\n",
       "      <td>28.909345</td>\n",
       "      <td>7.0</td>\n",
       "    </tr>\n",
       "  </tbody>\n",
       "</table>\n",
       "</div>"
      ],
      "text/plain": [
       "                  price        minimum_nights        number_of_reviews       \n",
       "                   mean median           mean median              mean median\n",
       "clusters                                                                     \n",
       "dark purple  220.012191  116.0      10.035203    2.0         12.726981    2.0\n",
       "pink         202.282565  120.0      10.466159    3.0         42.801573   11.0\n",
       "purple       260.620115  128.0       8.522619    2.0         28.909345    7.0"
      ]
     },
     "execution_count": 114,
     "metadata": {},
     "output_type": "execute_result"
    }
   ],
   "source": [
    "df2.groupby('clusters').agg({'price':['mean', 'median'],\n",
    "                           'minimum_nights':['mean', 'median'],\n",
    "                            'number_of_reviews':['mean', 'median']})"
   ]
  },
  {
   "cell_type": "markdown",
   "id": "84b42d08",
   "metadata": {},
   "source": [
    "I found that staying longer could end up being cheaper in the long run. I don't see any long term rentals that are high in price whereas the short term rentals could be extremely high in price."
   ]
  }
 ],
 "metadata": {
  "kernelspec": {
   "display_name": "Python 3 (ipykernel)",
   "language": "python",
   "name": "python3"
  },
  "language_info": {
   "codemirror_mode": {
    "name": "ipython",
    "version": 3
   },
   "file_extension": ".py",
   "mimetype": "text/x-python",
   "name": "python",
   "nbconvert_exporter": "python",
   "pygments_lexer": "ipython3",
   "version": "3.9.12"
  }
 },
 "nbformat": 4,
 "nbformat_minor": 5
}
