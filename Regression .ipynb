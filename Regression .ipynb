{
 "cells": [
  {
   "cell_type": "markdown",
   "id": "25fd8365",
   "metadata": {},
   "source": [
    "## 6.4 Machine Learning \n",
    "\n",
    "#### 1. Import libraries and data\n",
    "#### 2. Data Cleaning\n",
    "#### 3. Data prep for regression analysis\n",
    "#### 4. Regression analysis"
   ]
  },
  {
   "cell_type": "markdown",
   "id": "5467fff4",
   "metadata": {},
   "source": [
    "### 1.Importing libraries and data"
   ]
  },
  {
   "cell_type": "code",
   "execution_count": 6,
   "id": "02992a85",
   "metadata": {},
   "outputs": [],
   "source": [
    "import pandas as pd\n",
    "import numpy as np\n",
    "import seaborn as sns\n",
    "import matplotlib\n",
    "import matplotlib.pyplot as plt\n",
    "import os\n",
    "import sklearn\n",
    "from sklearn.model_selection import train_test_split\n",
    "from sklearn.linear_model import LinearRegression\n",
    "from sklearn.metrics import mean_squared_error, r2_score"
   ]
  },
  {
   "cell_type": "code",
   "execution_count": 7,
   "id": "b66eade3",
   "metadata": {},
   "outputs": [],
   "source": [
    "path = r'C:\\Users\\13526\\Documents\\Airbnb Data Project'"
   ]
  },
  {
   "cell_type": "code",
   "execution_count": 8,
   "id": "c66fb4af",
   "metadata": {},
   "outputs": [
    {
     "name": "stderr",
     "output_type": "stream",
     "text": [
      "C:\\Users\\13526\\AppData\\Local\\Temp\\ipykernel_21884\\2030327754.py:1: DtypeWarning: Columns (4) have mixed types. Specify dtype option on import or set low_memory=False.\n",
      "  df = pd.read_csv(os.path.join(path, '02 Data', 'airbnb_clean.csv'))\n"
     ]
    }
   ],
   "source": [
    "df = pd.read_csv(os.path.join(path, '02 Data', 'airbnb_clean.csv'))"
   ]
  },
  {
   "cell_type": "markdown",
   "id": "61185660",
   "metadata": {},
   "source": [
    "### 2. Cleaning"
   ]
  },
  {
   "cell_type": "code",
   "execution_count": 9,
   "id": "98adfa49",
   "metadata": {},
   "outputs": [
    {
     "data": {
      "text/plain": [
       "Index(['Unnamed: 0', 'id', 'name', 'host_id', 'neighbourhood_group',\n",
       "       'neighbourhood', 'latitude', 'longitude', 'room_type', 'price',\n",
       "       'minimum_nights', 'number_of_reviews', 'last_review',\n",
       "       'reviews_per_month', 'calculated_host_listings_count',\n",
       "       'availability_365', 'city'],\n",
       "      dtype='object')"
      ]
     },
     "execution_count": 9,
     "metadata": {},
     "output_type": "execute_result"
    }
   ],
   "source": [
    "df.columns"
   ]
  },
  {
   "cell_type": "code",
   "execution_count": 10,
   "id": "bbba73fd",
   "metadata": {},
   "outputs": [
    {
     "data": {
      "text/html": [
       "<div>\n",
       "<style scoped>\n",
       "    .dataframe tbody tr th:only-of-type {\n",
       "        vertical-align: middle;\n",
       "    }\n",
       "\n",
       "    .dataframe tbody tr th {\n",
       "        vertical-align: top;\n",
       "    }\n",
       "\n",
       "    .dataframe thead th {\n",
       "        text-align: right;\n",
       "    }\n",
       "</style>\n",
       "<table border=\"1\" class=\"dataframe\">\n",
       "  <thead>\n",
       "    <tr style=\"text-align: right;\">\n",
       "      <th></th>\n",
       "      <th>Unnamed: 0</th>\n",
       "      <th>id</th>\n",
       "      <th>name</th>\n",
       "      <th>host_id</th>\n",
       "      <th>neighbourhood_group</th>\n",
       "      <th>neighbourhood</th>\n",
       "      <th>latitude</th>\n",
       "      <th>longitude</th>\n",
       "      <th>room_type</th>\n",
       "      <th>price</th>\n",
       "      <th>minimum_nights</th>\n",
       "      <th>number_of_reviews</th>\n",
       "      <th>last_review</th>\n",
       "      <th>reviews_per_month</th>\n",
       "      <th>calculated_host_listings_count</th>\n",
       "      <th>availability_365</th>\n",
       "      <th>city</th>\n",
       "    </tr>\n",
       "  </thead>\n",
       "  <tbody>\n",
       "    <tr>\n",
       "      <th>0</th>\n",
       "      <td>0</td>\n",
       "      <td>38585</td>\n",
       "      <td>Charming Victorian home - twin beds + breakfast</td>\n",
       "      <td>165529</td>\n",
       "      <td>NaN</td>\n",
       "      <td>28804</td>\n",
       "      <td>35.65146</td>\n",
       "      <td>-82.62792</td>\n",
       "      <td>Private room</td>\n",
       "      <td>60</td>\n",
       "      <td>1</td>\n",
       "      <td>138</td>\n",
       "      <td>2020-02-16</td>\n",
       "      <td>1.14</td>\n",
       "      <td>1</td>\n",
       "      <td>0</td>\n",
       "      <td>Asheville</td>\n",
       "    </tr>\n",
       "    <tr>\n",
       "      <th>1</th>\n",
       "      <td>1</td>\n",
       "      <td>80905</td>\n",
       "      <td>French Chic Loft</td>\n",
       "      <td>427027</td>\n",
       "      <td>NaN</td>\n",
       "      <td>28801</td>\n",
       "      <td>35.59779</td>\n",
       "      <td>-82.55540</td>\n",
       "      <td>Entire home/apt</td>\n",
       "      <td>470</td>\n",
       "      <td>1</td>\n",
       "      <td>114</td>\n",
       "      <td>2020-07-09</td>\n",
       "      <td>1.03</td>\n",
       "      <td>11</td>\n",
       "      <td>288</td>\n",
       "      <td>Asheville</td>\n",
       "    </tr>\n",
       "    <tr>\n",
       "      <th>2</th>\n",
       "      <td>2</td>\n",
       "      <td>108061</td>\n",
       "      <td>Walk to stores/parks/downtown. Fenced yard/Pet...</td>\n",
       "      <td>320564</td>\n",
       "      <td>NaN</td>\n",
       "      <td>28801</td>\n",
       "      <td>35.60670</td>\n",
       "      <td>-82.55563</td>\n",
       "      <td>Entire home/apt</td>\n",
       "      <td>75</td>\n",
       "      <td>30</td>\n",
       "      <td>89</td>\n",
       "      <td>2019-11-30</td>\n",
       "      <td>0.81</td>\n",
       "      <td>2</td>\n",
       "      <td>298</td>\n",
       "      <td>Asheville</td>\n",
       "    </tr>\n",
       "    <tr>\n",
       "      <th>3</th>\n",
       "      <td>3</td>\n",
       "      <td>155305</td>\n",
       "      <td>Cottage! BonPaul + Sharky's Hostel</td>\n",
       "      <td>746673</td>\n",
       "      <td>NaN</td>\n",
       "      <td>28806</td>\n",
       "      <td>35.57864</td>\n",
       "      <td>-82.59578</td>\n",
       "      <td>Entire home/apt</td>\n",
       "      <td>90</td>\n",
       "      <td>1</td>\n",
       "      <td>267</td>\n",
       "      <td>2020-09-22</td>\n",
       "      <td>2.39</td>\n",
       "      <td>5</td>\n",
       "      <td>0</td>\n",
       "      <td>Asheville</td>\n",
       "    </tr>\n",
       "    <tr>\n",
       "      <th>4</th>\n",
       "      <td>4</td>\n",
       "      <td>160594</td>\n",
       "      <td>Historic Grove Park</td>\n",
       "      <td>769252</td>\n",
       "      <td>NaN</td>\n",
       "      <td>28801</td>\n",
       "      <td>35.61442</td>\n",
       "      <td>-82.54127</td>\n",
       "      <td>Private room</td>\n",
       "      <td>125</td>\n",
       "      <td>30</td>\n",
       "      <td>58</td>\n",
       "      <td>2015-10-19</td>\n",
       "      <td>0.52</td>\n",
       "      <td>1</td>\n",
       "      <td>0</td>\n",
       "      <td>Asheville</td>\n",
       "    </tr>\n",
       "    <tr>\n",
       "      <th>5</th>\n",
       "      <td>5</td>\n",
       "      <td>209068</td>\n",
       "      <td>Terrace Cottage</td>\n",
       "      <td>1029919</td>\n",
       "      <td>NaN</td>\n",
       "      <td>28804</td>\n",
       "      <td>35.61856</td>\n",
       "      <td>-82.55276</td>\n",
       "      <td>Entire home/apt</td>\n",
       "      <td>134</td>\n",
       "      <td>7</td>\n",
       "      <td>54</td>\n",
       "      <td>2020-01-14</td>\n",
       "      <td>0.49</td>\n",
       "      <td>1</td>\n",
       "      <td>294</td>\n",
       "      <td>Asheville</td>\n",
       "    </tr>\n",
       "    <tr>\n",
       "      <th>6</th>\n",
       "      <td>6</td>\n",
       "      <td>213006</td>\n",
       "      <td>Blue Gate West</td>\n",
       "      <td>1098412</td>\n",
       "      <td>NaN</td>\n",
       "      <td>28806</td>\n",
       "      <td>35.58345</td>\n",
       "      <td>-82.59713</td>\n",
       "      <td>Private room</td>\n",
       "      <td>48</td>\n",
       "      <td>1</td>\n",
       "      <td>137</td>\n",
       "      <td>2019-11-30</td>\n",
       "      <td>1.35</td>\n",
       "      <td>1</td>\n",
       "      <td>0</td>\n",
       "      <td>Asheville</td>\n",
       "    </tr>\n",
       "    <tr>\n",
       "      <th>7</th>\n",
       "      <td>7</td>\n",
       "      <td>246315</td>\n",
       "      <td>Asheville Dreamer's Cabin</td>\n",
       "      <td>1292070</td>\n",
       "      <td>NaN</td>\n",
       "      <td>28805</td>\n",
       "      <td>35.59635</td>\n",
       "      <td>-82.50655</td>\n",
       "      <td>Private room</td>\n",
       "      <td>65</td>\n",
       "      <td>3</td>\n",
       "      <td>57</td>\n",
       "      <td>2019-10-30</td>\n",
       "      <td>0.53</td>\n",
       "      <td>2</td>\n",
       "      <td>106</td>\n",
       "      <td>Asheville</td>\n",
       "    </tr>\n",
       "    <tr>\n",
       "      <th>8</th>\n",
       "      <td>8</td>\n",
       "      <td>259576</td>\n",
       "      <td>Private, peaceful, and free goat therapy</td>\n",
       "      <td>1362726</td>\n",
       "      <td>NaN</td>\n",
       "      <td>28805</td>\n",
       "      <td>35.61929</td>\n",
       "      <td>-82.48114</td>\n",
       "      <td>Entire home/apt</td>\n",
       "      <td>71</td>\n",
       "      <td>28</td>\n",
       "      <td>537</td>\n",
       "      <td>2020-05-04</td>\n",
       "      <td>5.01</td>\n",
       "      <td>1</td>\n",
       "      <td>207</td>\n",
       "      <td>Asheville</td>\n",
       "    </tr>\n",
       "    <tr>\n",
       "      <th>9</th>\n",
       "      <td>9</td>\n",
       "      <td>295496</td>\n",
       "      <td>The Fern Street Apt near Biltmore</td>\n",
       "      <td>1501882</td>\n",
       "      <td>NaN</td>\n",
       "      <td>28803</td>\n",
       "      <td>35.55537</td>\n",
       "      <td>-82.53539</td>\n",
       "      <td>Entire home/apt</td>\n",
       "      <td>50</td>\n",
       "      <td>90</td>\n",
       "      <td>31</td>\n",
       "      <td>2019-06-14</td>\n",
       "      <td>0.29</td>\n",
       "      <td>1</td>\n",
       "      <td>339</td>\n",
       "      <td>Asheville</td>\n",
       "    </tr>\n",
       "    <tr>\n",
       "      <th>10</th>\n",
       "      <td>10</td>\n",
       "      <td>304379</td>\n",
       "      <td>Refocus Cottage - paradise</td>\n",
       "      <td>1566145</td>\n",
       "      <td>NaN</td>\n",
       "      <td>28804</td>\n",
       "      <td>35.64453</td>\n",
       "      <td>-82.52586</td>\n",
       "      <td>Entire home/apt</td>\n",
       "      <td>289</td>\n",
       "      <td>30</td>\n",
       "      <td>24</td>\n",
       "      <td>2019-03-08</td>\n",
       "      <td>0.23</td>\n",
       "      <td>2</td>\n",
       "      <td>0</td>\n",
       "      <td>Asheville</td>\n",
       "    </tr>\n",
       "    <tr>\n",
       "      <th>11</th>\n",
       "      <td>11</td>\n",
       "      <td>353092</td>\n",
       "      <td>Athena's Loft:  Find yourself here!</td>\n",
       "      <td>1788071</td>\n",
       "      <td>NaN</td>\n",
       "      <td>28806</td>\n",
       "      <td>35.58217</td>\n",
       "      <td>-82.59997</td>\n",
       "      <td>Entire home/apt</td>\n",
       "      <td>78</td>\n",
       "      <td>4</td>\n",
       "      <td>497</td>\n",
       "      <td>2020-03-15</td>\n",
       "      <td>5.76</td>\n",
       "      <td>1</td>\n",
       "      <td>315</td>\n",
       "      <td>Asheville</td>\n",
       "    </tr>\n",
       "    <tr>\n",
       "      <th>12</th>\n",
       "      <td>12</td>\n",
       "      <td>427497</td>\n",
       "      <td>Luxurious Mountain Guest Suite Apartment</td>\n",
       "      <td>1909922</td>\n",
       "      <td>NaN</td>\n",
       "      <td>28803</td>\n",
       "      <td>35.49111</td>\n",
       "      <td>-82.48438</td>\n",
       "      <td>Entire home/apt</td>\n",
       "      <td>125</td>\n",
       "      <td>2</td>\n",
       "      <td>40</td>\n",
       "      <td>2020-08-17</td>\n",
       "      <td>0.42</td>\n",
       "      <td>1</td>\n",
       "      <td>339</td>\n",
       "      <td>Asheville</td>\n",
       "    </tr>\n",
       "    <tr>\n",
       "      <th>13</th>\n",
       "      <td>13</td>\n",
       "      <td>436476</td>\n",
       "      <td>8 min Walk to DT AVL! Hip, Chic, CLEAN &amp; Charm...</td>\n",
       "      <td>478398</td>\n",
       "      <td>NaN</td>\n",
       "      <td>28801</td>\n",
       "      <td>35.60182</td>\n",
       "      <td>-82.56174</td>\n",
       "      <td>Entire home/apt</td>\n",
       "      <td>126</td>\n",
       "      <td>3</td>\n",
       "      <td>289</td>\n",
       "      <td>2020-09-15</td>\n",
       "      <td>2.86</td>\n",
       "      <td>3</td>\n",
       "      <td>96</td>\n",
       "      <td>Asheville</td>\n",
       "    </tr>\n",
       "    <tr>\n",
       "      <th>14</th>\n",
       "      <td>14</td>\n",
       "      <td>483384</td>\n",
       "      <td>Romantic, Moroccan-Influenced Cottage</td>\n",
       "      <td>467421</td>\n",
       "      <td>NaN</td>\n",
       "      <td>28803</td>\n",
       "      <td>35.56118</td>\n",
       "      <td>-82.57784</td>\n",
       "      <td>Entire home/apt</td>\n",
       "      <td>118</td>\n",
       "      <td>2</td>\n",
       "      <td>466</td>\n",
       "      <td>2020-09-17</td>\n",
       "      <td>6.39</td>\n",
       "      <td>1</td>\n",
       "      <td>0</td>\n",
       "      <td>Asheville</td>\n",
       "    </tr>\n",
       "    <tr>\n",
       "      <th>15</th>\n",
       "      <td>15</td>\n",
       "      <td>495111</td>\n",
       "      <td>Walk Downtown private bath peaceful</td>\n",
       "      <td>12874214</td>\n",
       "      <td>NaN</td>\n",
       "      <td>28801</td>\n",
       "      <td>35.60371</td>\n",
       "      <td>-82.55621</td>\n",
       "      <td>Private room</td>\n",
       "      <td>85</td>\n",
       "      <td>2</td>\n",
       "      <td>338</td>\n",
       "      <td>2020-09-13</td>\n",
       "      <td>3.36</td>\n",
       "      <td>3</td>\n",
       "      <td>0</td>\n",
       "      <td>Asheville</td>\n",
       "    </tr>\n",
       "    <tr>\n",
       "      <th>16</th>\n",
       "      <td>16</td>\n",
       "      <td>498089</td>\n",
       "      <td>Urban Getaway - Perfect Location</td>\n",
       "      <td>2164379</td>\n",
       "      <td>NaN</td>\n",
       "      <td>28801</td>\n",
       "      <td>35.61115</td>\n",
       "      <td>-82.54376</td>\n",
       "      <td>Entire home/apt</td>\n",
       "      <td>50</td>\n",
       "      <td>30</td>\n",
       "      <td>130</td>\n",
       "      <td>2020-02-17</td>\n",
       "      <td>1.29</td>\n",
       "      <td>1</td>\n",
       "      <td>141</td>\n",
       "      <td>Asheville</td>\n",
       "    </tr>\n",
       "    <tr>\n",
       "      <th>17</th>\n",
       "      <td>17</td>\n",
       "      <td>528535</td>\n",
       "      <td>Dwntwn Studio w/ lots of character</td>\n",
       "      <td>2596933</td>\n",
       "      <td>NaN</td>\n",
       "      <td>28801</td>\n",
       "      <td>35.60075</td>\n",
       "      <td>-82.55390</td>\n",
       "      <td>Entire home/apt</td>\n",
       "      <td>97</td>\n",
       "      <td>30</td>\n",
       "      <td>352</td>\n",
       "      <td>2020-02-08</td>\n",
       "      <td>3.50</td>\n",
       "      <td>2</td>\n",
       "      <td>32</td>\n",
       "      <td>Asheville</td>\n",
       "    </tr>\n",
       "    <tr>\n",
       "      <th>18</th>\n",
       "      <td>18</td>\n",
       "      <td>539020</td>\n",
       "      <td>Comfy/quiet West Asheville getaway</td>\n",
       "      <td>2647849</td>\n",
       "      <td>NaN</td>\n",
       "      <td>28806</td>\n",
       "      <td>35.57318</td>\n",
       "      <td>-82.59976</td>\n",
       "      <td>Entire home/apt</td>\n",
       "      <td>74</td>\n",
       "      <td>2</td>\n",
       "      <td>185</td>\n",
       "      <td>2019-11-17</td>\n",
       "      <td>1.86</td>\n",
       "      <td>1</td>\n",
       "      <td>297</td>\n",
       "      <td>Asheville</td>\n",
       "    </tr>\n",
       "    <tr>\n",
       "      <th>19</th>\n",
       "      <td>19</td>\n",
       "      <td>621243</td>\n",
       "      <td>The birdhouse.Sweet suite! Downtown Roof top d...</td>\n",
       "      <td>3079174</td>\n",
       "      <td>NaN</td>\n",
       "      <td>28801</td>\n",
       "      <td>35.60418</td>\n",
       "      <td>-82.54964</td>\n",
       "      <td>Entire home/apt</td>\n",
       "      <td>160</td>\n",
       "      <td>30</td>\n",
       "      <td>69</td>\n",
       "      <td>2020-10-09</td>\n",
       "      <td>2.25</td>\n",
       "      <td>1</td>\n",
       "      <td>161</td>\n",
       "      <td>Asheville</td>\n",
       "    </tr>\n",
       "  </tbody>\n",
       "</table>\n",
       "</div>"
      ],
      "text/plain": [
       "    Unnamed: 0      id                                               name  \\\n",
       "0            0   38585    Charming Victorian home - twin beds + breakfast   \n",
       "1            1   80905                                   French Chic Loft   \n",
       "2            2  108061  Walk to stores/parks/downtown. Fenced yard/Pet...   \n",
       "3            3  155305                 Cottage! BonPaul + Sharky's Hostel   \n",
       "4            4  160594                                Historic Grove Park   \n",
       "5            5  209068                                    Terrace Cottage   \n",
       "6            6  213006                                     Blue Gate West   \n",
       "7            7  246315                          Asheville Dreamer's Cabin   \n",
       "8            8  259576           Private, peaceful, and free goat therapy   \n",
       "9            9  295496                  The Fern Street Apt near Biltmore   \n",
       "10          10  304379                         Refocus Cottage - paradise   \n",
       "11          11  353092                Athena's Loft:  Find yourself here!   \n",
       "12          12  427497           Luxurious Mountain Guest Suite Apartment   \n",
       "13          13  436476  8 min Walk to DT AVL! Hip, Chic, CLEAN & Charm...   \n",
       "14          14  483384              Romantic, Moroccan-Influenced Cottage   \n",
       "15          15  495111                Walk Downtown private bath peaceful   \n",
       "16          16  498089                   Urban Getaway - Perfect Location   \n",
       "17          17  528535                 Dwntwn Studio w/ lots of character   \n",
       "18          18  539020                 Comfy/quiet West Asheville getaway   \n",
       "19          19  621243  The birdhouse.Sweet suite! Downtown Roof top d...   \n",
       "\n",
       "     host_id neighbourhood_group neighbourhood  latitude  longitude  \\\n",
       "0     165529                 NaN         28804  35.65146  -82.62792   \n",
       "1     427027                 NaN         28801  35.59779  -82.55540   \n",
       "2     320564                 NaN         28801  35.60670  -82.55563   \n",
       "3     746673                 NaN         28806  35.57864  -82.59578   \n",
       "4     769252                 NaN         28801  35.61442  -82.54127   \n",
       "5    1029919                 NaN         28804  35.61856  -82.55276   \n",
       "6    1098412                 NaN         28806  35.58345  -82.59713   \n",
       "7    1292070                 NaN         28805  35.59635  -82.50655   \n",
       "8    1362726                 NaN         28805  35.61929  -82.48114   \n",
       "9    1501882                 NaN         28803  35.55537  -82.53539   \n",
       "10   1566145                 NaN         28804  35.64453  -82.52586   \n",
       "11   1788071                 NaN         28806  35.58217  -82.59997   \n",
       "12   1909922                 NaN         28803  35.49111  -82.48438   \n",
       "13    478398                 NaN         28801  35.60182  -82.56174   \n",
       "14    467421                 NaN         28803  35.56118  -82.57784   \n",
       "15  12874214                 NaN         28801  35.60371  -82.55621   \n",
       "16   2164379                 NaN         28801  35.61115  -82.54376   \n",
       "17   2596933                 NaN         28801  35.60075  -82.55390   \n",
       "18   2647849                 NaN         28806  35.57318  -82.59976   \n",
       "19   3079174                 NaN         28801  35.60418  -82.54964   \n",
       "\n",
       "          room_type  price  minimum_nights  number_of_reviews last_review  \\\n",
       "0      Private room     60               1                138  2020-02-16   \n",
       "1   Entire home/apt    470               1                114  2020-07-09   \n",
       "2   Entire home/apt     75              30                 89  2019-11-30   \n",
       "3   Entire home/apt     90               1                267  2020-09-22   \n",
       "4      Private room    125              30                 58  2015-10-19   \n",
       "5   Entire home/apt    134               7                 54  2020-01-14   \n",
       "6      Private room     48               1                137  2019-11-30   \n",
       "7      Private room     65               3                 57  2019-10-30   \n",
       "8   Entire home/apt     71              28                537  2020-05-04   \n",
       "9   Entire home/apt     50              90                 31  2019-06-14   \n",
       "10  Entire home/apt    289              30                 24  2019-03-08   \n",
       "11  Entire home/apt     78               4                497  2020-03-15   \n",
       "12  Entire home/apt    125               2                 40  2020-08-17   \n",
       "13  Entire home/apt    126               3                289  2020-09-15   \n",
       "14  Entire home/apt    118               2                466  2020-09-17   \n",
       "15     Private room     85               2                338  2020-09-13   \n",
       "16  Entire home/apt     50              30                130  2020-02-17   \n",
       "17  Entire home/apt     97              30                352  2020-02-08   \n",
       "18  Entire home/apt     74               2                185  2019-11-17   \n",
       "19  Entire home/apt    160              30                 69  2020-10-09   \n",
       "\n",
       "    reviews_per_month  calculated_host_listings_count  availability_365  \\\n",
       "0                1.14                               1                 0   \n",
       "1                1.03                              11               288   \n",
       "2                0.81                               2               298   \n",
       "3                2.39                               5                 0   \n",
       "4                0.52                               1                 0   \n",
       "5                0.49                               1               294   \n",
       "6                1.35                               1                 0   \n",
       "7                0.53                               2               106   \n",
       "8                5.01                               1               207   \n",
       "9                0.29                               1               339   \n",
       "10               0.23                               2                 0   \n",
       "11               5.76                               1               315   \n",
       "12               0.42                               1               339   \n",
       "13               2.86                               3                96   \n",
       "14               6.39                               1                 0   \n",
       "15               3.36                               3                 0   \n",
       "16               1.29                               1               141   \n",
       "17               3.50                               2                32   \n",
       "18               1.86                               1               297   \n",
       "19               2.25                               1               161   \n",
       "\n",
       "         city  \n",
       "0   Asheville  \n",
       "1   Asheville  \n",
       "2   Asheville  \n",
       "3   Asheville  \n",
       "4   Asheville  \n",
       "5   Asheville  \n",
       "6   Asheville  \n",
       "7   Asheville  \n",
       "8   Asheville  \n",
       "9   Asheville  \n",
       "10  Asheville  \n",
       "11  Asheville  \n",
       "12  Asheville  \n",
       "13  Asheville  \n",
       "14  Asheville  \n",
       "15  Asheville  \n",
       "16  Asheville  \n",
       "17  Asheville  \n",
       "18  Asheville  \n",
       "19  Asheville  "
      ]
     },
     "execution_count": 10,
     "metadata": {},
     "output_type": "execute_result"
    }
   ],
   "source": [
    "df.head(20)"
   ]
  },
  {
   "cell_type": "code",
   "execution_count": 11,
   "id": "cbff2993",
   "metadata": {},
   "outputs": [
    {
     "data": {
      "text/plain": [
       "(225967, 17)"
      ]
     },
     "execution_count": 11,
     "metadata": {},
     "output_type": "execute_result"
    }
   ],
   "source": [
    "df.shape"
   ]
  },
  {
   "cell_type": "code",
   "execution_count": 13,
   "id": "1fe67e80",
   "metadata": {},
   "outputs": [
    {
     "data": {
      "text/plain": [
       "Unnamed: 0                             0\n",
       "id                                     0\n",
       "name                                  27\n",
       "host_id                                0\n",
       "neighbourhood_group               115814\n",
       "neighbourhood                          0\n",
       "latitude                               0\n",
       "longitude                              0\n",
       "room_type                              0\n",
       "price                                  0\n",
       "minimum_nights                         0\n",
       "number_of_reviews                      0\n",
       "last_review                        48587\n",
       "reviews_per_month                  48587\n",
       "calculated_host_listings_count         0\n",
       "availability_365                       0\n",
       "city                                   0\n",
       "dtype: int64"
      ]
     },
     "execution_count": 13,
     "metadata": {},
     "output_type": "execute_result"
    }
   ],
   "source": [
    "# checking for missing values\n",
    "df.isnull().sum()"
   ]
  },
  {
   "cell_type": "code",
   "execution_count": 14,
   "id": "7f88e62d",
   "metadata": {},
   "outputs": [],
   "source": [
    "dups = df.duplicated()"
   ]
  },
  {
   "cell_type": "code",
   "execution_count": 15,
   "id": "a6632488",
   "metadata": {},
   "outputs": [
    {
     "data": {
      "text/plain": [
       "(225967,)"
      ]
     },
     "execution_count": 15,
     "metadata": {},
     "output_type": "execute_result"
    }
   ],
   "source": [
    "dups.shape"
   ]
  },
  {
   "cell_type": "code",
   "execution_count": 16,
   "id": "6875169b",
   "metadata": {},
   "outputs": [
    {
     "data": {
      "text/plain": [
       "121.0"
      ]
     },
     "execution_count": 16,
     "metadata": {},
     "output_type": "execute_result"
    }
   ],
   "source": [
    "df['price'].median()"
   ]
  },
  {
   "cell_type": "code",
   "execution_count": 17,
   "id": "a711e351",
   "metadata": {},
   "outputs": [
    {
     "data": {
      "text/plain": [
       "24999"
      ]
     },
     "execution_count": 17,
     "metadata": {},
     "output_type": "execute_result"
    }
   ],
   "source": [
    "df['price'].max()"
   ]
  },
  {
   "cell_type": "markdown",
   "id": "cc379f5d",
   "metadata": {},
   "source": [
    "### 3. Data prep for regression analysis"
   ]
  },
  {
   "cell_type": "code",
   "execution_count": 18,
   "id": "94956ab0",
   "metadata": {},
   "outputs": [
    {
     "data": {
      "image/png": "[encoded data removed]",
      "text/plain": [
       "<Figure size 432x288 with 1 Axes>"
      ]
     },
     "metadata": {
      "needs_background": "light"
     },
     "output_type": "display_data"
    }
   ],
   "source": [
    "# Create a scatterplot using matplotlib for another look at how the chosen variables plot against each other\n",
    "\n",
    "df.plot(x = 'price', y='minimum_nights',style='o')\n",
    "plt.title('Price Flow Bassed on Minimum Nights')\n",
    "plt.xlabel('Price')\n",
    "plt.ylabel('Minimum Nights')\n",
    "plt.show()"
   ]
  },
  {
   "cell_type": "code",
   "execution_count": 19,
   "id": "c9d635d0",
   "metadata": {},
   "outputs": [],
   "source": [
    "# Reshape the variables into NumPy arrays and put them into separate objects\n",
    "\n",
    "x = df['price'].values.reshape(-1,1)\n",
    "y = df['minimum_nights'].values.reshape(-1,1)"
   ]
  },
  {
   "cell_type": "code",
   "execution_count": 20,
   "id": "8ee14745",
   "metadata": {},
   "outputs": [
    {
     "data": {
      "text/plain": [
       "array([[ 60],\n",
       "       [470],\n",
       "       [ 75],\n",
       "       ...,\n",
       "       [240],\n",
       "       [ 60],\n",
       "       [ 79]], dtype=int64)"
      ]
     },
     "execution_count": 20,
     "metadata": {},
     "output_type": "execute_result"
    }
   ],
   "source": [
    "x"
   ]
  },
  {
   "cell_type": "code",
   "execution_count": 21,
   "id": "39398968",
   "metadata": {},
   "outputs": [
    {
     "data": {
      "text/plain": [
       "array([[ 1],\n",
       "       [ 1],\n",
       "       [30],\n",
       "       ...,\n",
       "       [ 2],\n",
       "       [21],\n",
       "       [ 7]], dtype=int64)"
      ]
     },
     "execution_count": 21,
     "metadata": {},
     "output_type": "execute_result"
    }
   ],
   "source": [
    "y"
   ]
  },
  {
   "cell_type": "code",
   "execution_count": 22,
   "id": "3a4fd164",
   "metadata": {},
   "outputs": [],
   "source": [
    "# Split data into a training set and a test set\n",
    "\n",
    "x_train, x_test, y_train, y_test = train_test_split(x, y, test_size=0.3, random_state=0)"
   ]
  },
  {
   "cell_type": "markdown",
   "id": "ee83d0c2",
   "metadata": {},
   "source": [
    "### 4. Regression Analysis"
   ]
  },
  {
   "cell_type": "code",
   "execution_count": 23,
   "id": "c23203f7",
   "metadata": {},
   "outputs": [],
   "source": [
    "# Create a regression object\n",
    "\n",
    "regression = LinearRegression()"
   ]
  },
  {
   "cell_type": "code",
   "execution_count": 24,
   "id": "85f36e7b",
   "metadata": {},
   "outputs": [
    {
     "data": {
      "text/plain": [
       "LinearRegression(normalize=False)"
      ]
     },
     "execution_count": 24,
     "metadata": {},
     "output_type": "execute_result"
    }
   ],
   "source": [
    "LinearRegression(copy_X=True, fit_intercept=True, n_jobs=None, normalize=False)"
   ]
  },
  {
   "cell_type": "code",
   "execution_count": 26,
   "id": "78eb681e",
   "metadata": {},
   "outputs": [
    {
     "data": {
      "text/plain": [
       "LinearRegression()"
      ]
     },
     "execution_count": 26,
     "metadata": {},
     "output_type": "execute_result"
    }
   ],
   "source": [
    "regression.fit(x_train, y_train)"
   ]
  },
  {
   "cell_type": "code",
   "execution_count": 28,
   "id": "ef0a7bbf",
   "metadata": {},
   "outputs": [],
   "source": [
    "y_predicted = regression.predict(x_test)"
   ]
  },
  {
   "cell_type": "code",
   "execution_count": 29,
   "id": "48f94fa8",
   "metadata": {},
   "outputs": [
    {
     "data": {
      "image/png": "[encoded data removed]",
      "text/plain": [
       "<Figure size 432x288 with 1 Axes>"
      ]
     },
     "metadata": {
      "needs_background": "light"
     },
     "output_type": "display_data"
    }
   ],
   "source": [
    "# Create a plot that shows the regression line from the model on the test set\n",
    "\n",
    "plot_test = plt\n",
    "plot_test.scatter(x_test, y_test, color='gray', s = 15)\n",
    "plot_test.plot(x_test, y_predicted, color='red', linewidth =3)\n",
    "plot_test.title('Price Flow Bassed on Minimum Nights (Test set)')\n",
    "plot_test.xlabel('price')\n",
    "plot_test.ylabel('minimum_nights')\n",
    "plot_test.show()"
   ]
  },
  {
   "cell_type": "code",
   "execution_count": 30,
   "id": "be599a2f",
   "metadata": {},
   "outputs": [],
   "source": [
    "# Create objects that contain the model summary statistics\n",
    "\n",
    "rmse = mean_squared_error(y_test, y_predicted)\n",
    "r2 = r2_score(y_test, y_predicted)"
   ]
  },
  {
   "cell_type": "code",
   "execution_count": 31,
   "id": "68533432",
   "metadata": {},
   "outputs": [
    {
     "name": "stdout",
     "output_type": "stream",
     "text": [
      "Slope: [[-0.00056205]]\n",
      "Mean squared error:  453.48046690348224\n",
      "R2 score:  0.00023118124511134486\n"
     ]
    }
   ],
   "source": [
    "# Print the model summary statistics\n",
    "\n",
    "print('Slope:' ,regression.coef_)\n",
    "print('Mean squared error: ', rmse)\n",
    "print('R2 score: ', r2)"
   ]
  },
  {
   "cell_type": "code",
   "execution_count": 32,
   "id": "d39c2295",
   "metadata": {},
   "outputs": [
    {
     "data": {
      "text/plain": [
       "array([[ 9.99284585],\n",
       "       [ 9.97486015],\n",
       "       [ 9.54601356],\n",
       "       ...,\n",
       "       [ 9.62807333],\n",
       "       [10.02094851],\n",
       "       [ 9.99284585]])"
      ]
     },
     "execution_count": 32,
     "metadata": {},
     "output_type": "execute_result"
    }
   ],
   "source": [
    "y_predicted"
   ]
  },
  {
   "cell_type": "code",
   "execution_count": 35,
   "id": "27e09047",
   "metadata": {},
   "outputs": [
    {
     "data": {
      "text/html": [
       "<div>\n",
       "<style scoped>\n",
       "    .dataframe tbody tr th:only-of-type {\n",
       "        vertical-align: middle;\n",
       "    }\n",
       "\n",
       "    .dataframe tbody tr th {\n",
       "        vertical-align: top;\n",
       "    }\n",
       "\n",
       "    .dataframe thead th {\n",
       "        text-align: right;\n",
       "    }\n",
       "</style>\n",
       "<table border=\"1\" class=\"dataframe\">\n",
       "  <thead>\n",
       "    <tr style=\"text-align: right;\">\n",
       "      <th></th>\n",
       "      <th>Actual</th>\n",
       "      <th>Predicted</th>\n",
       "    </tr>\n",
       "  </thead>\n",
       "  <tbody>\n",
       "    <tr>\n",
       "      <th>0</th>\n",
       "      <td>2</td>\n",
       "      <td>9.992846</td>\n",
       "    </tr>\n",
       "    <tr>\n",
       "      <th>1</th>\n",
       "      <td>2</td>\n",
       "      <td>9.974860</td>\n",
       "    </tr>\n",
       "    <tr>\n",
       "      <th>2</th>\n",
       "      <td>1</td>\n",
       "      <td>9.546014</td>\n",
       "    </tr>\n",
       "    <tr>\n",
       "      <th>3</th>\n",
       "      <td>30</td>\n",
       "      <td>9.964743</td>\n",
       "    </tr>\n",
       "    <tr>\n",
       "      <th>4</th>\n",
       "      <td>7</td>\n",
       "      <td>9.950692</td>\n",
       "    </tr>\n",
       "    <tr>\n",
       "      <th>5</th>\n",
       "      <td>2</td>\n",
       "      <td>9.787696</td>\n",
       "    </tr>\n",
       "    <tr>\n",
       "      <th>6</th>\n",
       "      <td>1</td>\n",
       "      <td>10.009707</td>\n",
       "    </tr>\n",
       "    <tr>\n",
       "      <th>7</th>\n",
       "      <td>30</td>\n",
       "      <td>9.866384</td>\n",
       "    </tr>\n",
       "    <tr>\n",
       "      <th>8</th>\n",
       "      <td>3</td>\n",
       "      <td>10.031065</td>\n",
       "    </tr>\n",
       "    <tr>\n",
       "      <th>9</th>\n",
       "      <td>30</td>\n",
       "      <td>10.009707</td>\n",
       "    </tr>\n",
       "    <tr>\n",
       "      <th>10</th>\n",
       "      <td>1</td>\n",
       "      <td>9.961371</td>\n",
       "    </tr>\n",
       "    <tr>\n",
       "      <th>11</th>\n",
       "      <td>1</td>\n",
       "      <td>10.017014</td>\n",
       "    </tr>\n",
       "    <tr>\n",
       "      <th>12</th>\n",
       "      <td>2</td>\n",
       "      <td>10.007459</td>\n",
       "    </tr>\n",
       "    <tr>\n",
       "      <th>13</th>\n",
       "      <td>1</td>\n",
       "      <td>9.993408</td>\n",
       "    </tr>\n",
       "    <tr>\n",
       "      <th>14</th>\n",
       "      <td>3</td>\n",
       "      <td>9.894487</td>\n",
       "    </tr>\n",
       "    <tr>\n",
       "      <th>15</th>\n",
       "      <td>30</td>\n",
       "      <td>8.643918</td>\n",
       "    </tr>\n",
       "    <tr>\n",
       "      <th>16</th>\n",
       "      <td>3</td>\n",
       "      <td>9.859639</td>\n",
       "    </tr>\n",
       "    <tr>\n",
       "      <th>17</th>\n",
       "      <td>1</td>\n",
       "      <td>9.947882</td>\n",
       "    </tr>\n",
       "    <tr>\n",
       "      <th>18</th>\n",
       "      <td>1</td>\n",
       "      <td>9.981605</td>\n",
       "    </tr>\n",
       "    <tr>\n",
       "      <th>19</th>\n",
       "      <td>3</td>\n",
       "      <td>9.942823</td>\n",
       "    </tr>\n",
       "    <tr>\n",
       "      <th>20</th>\n",
       "      <td>5</td>\n",
       "      <td>10.004087</td>\n",
       "    </tr>\n",
       "    <tr>\n",
       "      <th>21</th>\n",
       "      <td>3</td>\n",
       "      <td>9.824230</td>\n",
       "    </tr>\n",
       "    <tr>\n",
       "      <th>22</th>\n",
       "      <td>4</td>\n",
       "      <td>9.995094</td>\n",
       "    </tr>\n",
       "    <tr>\n",
       "      <th>23</th>\n",
       "      <td>2</td>\n",
       "      <td>9.950692</td>\n",
       "    </tr>\n",
       "    <tr>\n",
       "      <th>24</th>\n",
       "      <td>2</td>\n",
       "      <td>9.947882</td>\n",
       "    </tr>\n",
       "    <tr>\n",
       "      <th>25</th>\n",
       "      <td>3</td>\n",
       "      <td>9.812989</td>\n",
       "    </tr>\n",
       "    <tr>\n",
       "      <th>26</th>\n",
       "      <td>1</td>\n",
       "      <td>9.990598</td>\n",
       "    </tr>\n",
       "    <tr>\n",
       "      <th>27</th>\n",
       "      <td>91</td>\n",
       "      <td>9.982167</td>\n",
       "    </tr>\n",
       "    <tr>\n",
       "      <th>28</th>\n",
       "      <td>91</td>\n",
       "      <td>9.944509</td>\n",
       "    </tr>\n",
       "    <tr>\n",
       "      <th>29</th>\n",
       "      <td>5</td>\n",
       "      <td>9.976546</td>\n",
       "    </tr>\n",
       "  </tbody>\n",
       "</table>\n",
       "</div>"
      ],
      "text/plain": [
       "    Actual  Predicted\n",
       "0        2   9.992846\n",
       "1        2   9.974860\n",
       "2        1   9.546014\n",
       "3       30   9.964743\n",
       "4        7   9.950692\n",
       "5        2   9.787696\n",
       "6        1  10.009707\n",
       "7       30   9.866384\n",
       "8        3  10.031065\n",
       "9       30  10.009707\n",
       "10       1   9.961371\n",
       "11       1  10.017014\n",
       "12       2  10.007459\n",
       "13       1   9.993408\n",
       "14       3   9.894487\n",
       "15      30   8.643918\n",
       "16       3   9.859639\n",
       "17       1   9.947882\n",
       "18       1   9.981605\n",
       "19       3   9.942823\n",
       "20       5  10.004087\n",
       "21       3   9.824230\n",
       "22       4   9.995094\n",
       "23       2   9.950692\n",
       "24       2   9.947882\n",
       "25       3   9.812989\n",
       "26       1   9.990598\n",
       "27      91   9.982167\n",
       "28      91   9.944509\n",
       "29       5   9.976546"
      ]
     },
     "execution_count": 35,
     "metadata": {},
     "output_type": "execute_result"
    }
   ],
   "source": [
    "# Create a dataframe comparing the actual and predicted values of y\n",
    "\n",
    "data = pd.DataFrame({'Actual': y_test.flatten(), 'Predicted': y_predicted.flatten()})\n",
    "data.head(30)"
   ]
  },
  {
   "cell_type": "code",
   "execution_count": 38,
   "id": "b4a0f1c5",
   "metadata": {},
   "outputs": [],
   "source": [
    "# Predict\n",
    "\n",
    "y_predicted_train = regression.predict(x_train)"
   ]
  },
  {
   "cell_type": "code",
   "execution_count": 39,
   "id": "a6a2595f",
   "metadata": {},
   "outputs": [],
   "source": [
    "rmse = mean_squared_error(y_train, y_predicted_train)\n",
    "r2 = r2_score(y_train, y_predicted_train)"
   ]
  },
  {
   "cell_type": "code",
   "execution_count": 40,
   "id": "adb7ae8e",
   "metadata": {},
   "outputs": [
    {
     "name": "stdout",
     "output_type": "stream",
     "text": [
      "Slope: [[-0.00056205]]\n",
      "Mean squared error:  448.0501940077678\n",
      "R2 score:  0.0002213268030691884\n"
     ]
    }
   ],
   "source": [
    "print('Slope:' ,regression.coef_)\n",
    "print('Mean squared error: ', rmse)\n",
    "print('R2 score: ', r2)"
   ]
  },
  {
   "cell_type": "code",
   "execution_count": 41,
   "id": "e60c51a3",
   "metadata": {},
   "outputs": [
    {
     "data": {
      "image/png": "[encoded data removed]",
      "text/plain": [
       "<Figure size 432x288 with 1 Axes>"
      ]
     },
     "metadata": {
      "needs_background": "light"
     },
     "output_type": "display_data"
    }
   ],
   "source": [
    "# Visualizing the training set results\n",
    "\n",
    "plot_test = plt\n",
    "plot_test.scatter(x_train, y_train, color='green', s = 15)\n",
    "plot_test.plot(x_train, y_predicted_train, color='red', linewidth =3)\n",
    "plot_test.title('Price Flow Bassed on Minimum Nights (Train set)')\n",
    "plot_test.xlabel('Price')\n",
    "plot_test.ylabel('Minimum Nights')\n",
    "plot_test.show()"
   ]
  },
  {
   "cell_type": "markdown",
   "id": "bd888623",
   "metadata": {},
   "source": [
    "The trend is very shallow and not very informative, but this would come in handy viewing a differe"
   ]
  }
 ],
 "metadata": {
  "kernelspec": {
   "display_name": "Python 3 (ipykernel)",
   "language": "python",
   "name": "python3"
  },
  "language_info": {
   "codemirror_mode": {
    "name": "ipython",
    "version": 3
   },
   "file_extension": ".py",
   "mimetype": "text/x-python",
   "name": "python",
   "nbconvert_exporter": "python",
   "pygments_lexer": "ipython3",
   "version": "3.9.12"
  }
 },
 "nbformat": 4,
 "nbformat_minor": 5
}
